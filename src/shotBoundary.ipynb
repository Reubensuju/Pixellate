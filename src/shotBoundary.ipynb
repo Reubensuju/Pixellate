{
 "cells": [
  {
   "cell_type": "code",
   "execution_count": 1,
   "metadata": {},
   "outputs": [
    {
     "name": "stderr",
     "output_type": "stream",
     "text": [
      "c:\\Users\\Salil\\AppData\\Local\\Programs\\Python\\Python311\\Lib\\site-packages\\tqdm\\auto.py:21: TqdmWarning: IProgress not found. Please update jupyter and ipywidgets. See https://ipywidgets.readthedocs.io/en/stable/user_install.html\n",
      "  from .autonotebook import tqdm as notebook_tqdm\n",
      "VideoManager is deprecated and will be removed.\n",
      "`base_timecode` argument is deprecated and has no effect.\n",
      "VideoManager is deprecated and will be removed.\n"
     ]
    },
    {
     "name": "stdout",
     "output_type": "stream",
     "text": [
      "List of scene changes:\n",
      "['00:00:10.719', '00:00:14.598', '00:00:16.892', '00:00:18.101', '00:00:19.186', '00:00:20.145', '00:00:23.941', '00:00:32.032', '00:00:35.160', '00:00:38.330', '00:00:39.998', '00:00:41.500', '00:00:49.091', '00:00:52.469', '00:01:12.281', '00:01:14.283', '00:01:15.450', '00:01:17.077', '00:01:18.036', '00:01:18.704', '00:01:21.164', '00:01:22.666', '00:01:23.875', '00:01:25.002', '00:01:26.128', '00:01:27.087', '00:01:28.213', '00:01:29.256', '00:01:30.173', '00:01:31.383', '00:01:33.260', '00:01:34.052', '00:01:34.845', '00:01:35.637', '00:01:36.763', '00:01:37.806', '00:01:39.349', '00:01:40.475', '00:01:41.226', '00:01:42.561', '00:01:43.937', '00:01:44.730', '00:01:46.023', '00:01:46.898', '00:01:47.899', '00:01:48.650', '00:01:49.401', '00:01:50.277', '00:01:51.278', '00:01:53.238', '00:02:13.800', '00:02:17.220', '00:02:18.972', '00:02:20.182', '00:02:22.017', '00:02:24.019']\n",
      "[3.88, 2.29, 1.21, 1.08, 0.96, 3.8, 8.09, 3.13, 3.17, 1.67, 1.5, 7.59, 3.38, 19.81, 2.0, 1.17, 1.63, 0.96, 0.67, 2.46, 1.5, 1.21, 1.13, 1.13, 0.96, 1.13, 1.04, 0.92, 1.21, 1.88, 0.79, 0.79, 0.79, 1.13, 1.04, 1.54, 1.13, 0.75, 1.33, 1.38, 0.79, 1.29, 0.88, 1.0, 0.75, 0.75, 0.88, 1.0, 1.96, 20.56, 3.42, 1.75, 1.21, 1.83, 2.0]\n"
     ]
    },
    {
     "name": "stderr",
     "output_type": "stream",
     "text": [
      "`base_timecode` argument is deprecated and has no effect.\n"
     ]
    },
    {
     "name": "stdout",
     "output_type": "stream",
     "text": [
      "List of scene changes:\n",
      "[ 3.88  2.29  1.21  1.08  0.96  3.8   8.09  3.13  3.17  1.67  1.5   7.59\n",
      "  3.38 19.81  2.    1.17  1.63  0.96  0.67  2.46  1.5   1.21  1.13  1.13\n",
      "  0.96  1.13  1.04  0.92  1.21  1.88  0.79  0.79  0.79  1.13  1.04  1.54\n",
      "  1.13  0.75  1.33  1.38  0.79  1.29  0.88  1.    0.75  0.75  0.88  1.\n",
      "  1.96 20.56  3.42  1.75  1.21  1.83  2.  ]\n",
      "[8.09 3.13 3.17 1.67]\n",
      "[6]\n"
     ]
    }
   ],
   "source": [
    "import cv2\n",
    "from scenedetect import VideoManager\n",
    "from scenedetect import SceneManager\n",
    "from scenedetect.detectors import ContentDetector\n",
    "from datetime import datetime\n",
    "import numpy as np\n",
    "\n",
    "unrounded_differences = []\n",
    "\n",
    "def find_subarray_np(main_array, sub_array):\n",
    "    main_array = np.array(main_array)\n",
    "    sub_array = np.array(sub_array)\n",
    "    sub_len = len(sub_array)\n",
    "\n",
    "    print(main_array)\n",
    "    print(sub_array)\n",
    "    \n",
    "    # Create a view into the main array with the same length as the subarray\n",
    "    strided = np.lib.stride_tricks.sliding_window_view(main_array, window_shape=sub_len)\n",
    "    \n",
    "    # Find all positions where the strided version matches the subarray\n",
    "    matches = np.all(strided == sub_array, axis=1)\n",
    "    \n",
    "    # Get the indices of the matches\n",
    "    indices = np.where(matches)[0]\n",
    "    \n",
    "    if indices.size > 0:\n",
    "        return indices\n",
    "    else:\n",
    "        return -1  # Return -1 if subarray not found\n",
    "\n",
    "# Function to parse timecodes into timedelta objects\n",
    "def parse_timecode(time_str):\n",
    "    # Format: 'HH:MM:SS.sss'\n",
    "    return datetime.strptime(time_str, \"%H:%M:%S.%f\")\n",
    "\n",
    "# Function to compute differences in timestamps\n",
    "def compute_differences(timestamps):\n",
    "    # Convert all timestamps to timedelta objects\n",
    "    times = [parse_timecode(t) for t in timestamps]\n",
    "    \n",
    "    # Calculate differences between consecutive timestamps\n",
    "    differences = []\n",
    "    for i in range(1, len(times)):\n",
    "        # Compute difference and convert to total seconds (or any other unit)\n",
    "        diff = (times[i] - times[i-1]).total_seconds()\n",
    "        differences.append(round(diff, 2))\n",
    "    return differences\n",
    "\n",
    "def find_scenes(video_path, threshold=30.0):\n",
    "    shot_boundaries = []\n",
    "\n",
    "    # Create a video manager object for the video.\n",
    "    video_manager = VideoManager([video_path])\n",
    "    scene_manager = SceneManager()\n",
    "    \n",
    "    # Add the ContentDetector algorithm (with a threshold setting).\n",
    "    scene_manager.add_detector(ContentDetector(threshold=threshold))\n",
    "    \n",
    "    # Start the video manager and perform scene detection.\n",
    "    video_manager.set_downscale_factor()\n",
    "    video_manager.start()\n",
    "\n",
    "    # Detect scenes and return a list of scenes.\n",
    "    scene_manager.detect_scenes(frame_source=video_manager)\n",
    "    \n",
    "    # Obtain the scenes by frame and timecode.\n",
    "    scene_list = scene_manager.get_scene_list(video_manager.get_base_timecode())\n",
    "    \n",
    "    # Each scene is a tuple of (start, end) FrameTimecodes.\n",
    "    print('List of scene changes:')\n",
    "    for i, scene in enumerate(scene_list):\n",
    "        shot_boundaries.append(scene[1].get_timecode())\n",
    "        #print(f'Scene {i+1}: Start {scene[0].get_timecode()} - End {scene[1].get_timecode()}')\n",
    "\n",
    "    video_manager.release()\n",
    "    return shot_boundaries\n",
    "\n",
    "def query(original_differences):\n",
    "    query_file_path = '../dataset/queries/joker_query2.mp4'\n",
    "    query_video_boundaries = find_scenes(query_file_path)\n",
    "    query_differences = compute_differences(query_video_boundaries)\n",
    "    return query_differences[:-1]\n",
    "\n",
    "\n",
    "# Example usage:\n",
    "video_file_path = '../dataset/originals/joker.mp4'\n",
    "original_video_boundaries = find_scenes(video_file_path)\n",
    "original_video_differences = compute_differences(original_video_boundaries)\n",
    "print(original_video_boundaries)\n",
    "print(original_video_differences)\n",
    "\n",
    "query_video_differences = query(original_video_differences)\n",
    "\n",
    "print(find_subarray_np(original_video_differences, query_video_differences))"
   ]
  },
  {
   "cell_type": "code",
   "execution_count": 5,
   "metadata": {},
   "outputs": [
    {
     "name": "stdout",
     "output_type": "stream",
     "text": [
      "G\n"
     ]
    }
   ],
   "source": [
    "def find_dominant_color(frame):\n",
    "    # Split the frame into its RGB channels\n",
    "    b, g, r = cv2.split(frame)\n",
    "    \n",
    "    # Calculate the mean intensity of each channel\n",
    "    mean_r = np.mean(r)\n",
    "    mean_g = np.mean(g)\n",
    "    mean_b = np.mean(b)\n",
    "    \n",
    "    # Compare the mean intensities to find the dominant channel\n",
    "    if mean_r > mean_g and mean_r > mean_b:\n",
    "        return \"R\"\n",
    "    elif mean_g > mean_r and mean_g > mean_b:\n",
    "        return \"G\"\n",
    "    else:\n",
    "        return \"B\"\n",
    "\n",
    "query_file_path = '../dataset/queries/joker_query.mp4'\n",
    "cap = cv2.VideoCapture(query_file_path)\n",
    "\n",
    "ret, frame = cap.read()\n",
    "\n",
    "cap.release()\n",
    "\n",
    "print(find_dominant_color(frame))"
   ]
  }
 ],
 "metadata": {
  "kernelspec": {
   "display_name": "Python 3",
   "language": "python",
   "name": "python3"
  },
  "language_info": {
   "codemirror_mode": {
    "name": "ipython",
    "version": 3
   },
   "file_extension": ".py",
   "mimetype": "text/x-python",
   "name": "python",
   "nbconvert_exporter": "python",
   "pygments_lexer": "ipython3",
   "version": "3.11.7"
  }
 },
 "nbformat": 4,
 "nbformat_minor": 2
}
